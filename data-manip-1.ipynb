{
 "cells": [
  {
   "cell_type": "code",
   "execution_count": 2,
   "metadata": {},
   "outputs": [],
   "source": [
    "from gettext import install\n",
    "import pandas as pd\n",
    "import numpy as np\n",
    "import json\n",
    "import csv"
   ]
  },
  {
   "cell_type": "code",
   "execution_count": 11,
   "metadata": {},
   "outputs": [
    {
     "name": "stdout",
     "output_type": "stream",
     "text": [
      "['player_id' 'player' 'img_url']\n"
     ]
    }
   ],
   "source": [
    "players = pd.read_csv(\"./data/raw/players_big.csv\")\n",
    "players.drop(['birth_year', 'hof', 'num_seasons', 'first_seas', 'last_seas'], axis=1, inplace=True)\n",
    "\n",
    "pd.DataFrame(players).to_csv(\"./data/players.csv\", index=False)\n",
    "\n",
    "print(players.columns.values)"
   ]
  },
  {
   "cell_type": "code",
   "execution_count": 4,
   "metadata": {},
   "outputs": [],
   "source": [
    "### make players a json so i can use :)\n",
    "\n",
    "\n",
    "read_data = []\n",
    "\n",
    "fields = []\n",
    "employee_list = []\n",
    "\n",
    "def csv_to_json(csv_path, json_path):\n",
    "  # your code here\n",
    "\n",
    "  with open(csv_path, mode='r', encoding='utf-8-sig') as csv_file:\n",
    "    csv_data = csv.reader(csv_file, delimiter=',')\n",
    "    for n in csv_data:\n",
    "      read_data.append(tuple(n))\n",
    "  headers = read_data[0]\n",
    "  employees = read_data[1:len(read_data)]\n",
    "  \n",
    "  for i, headers in enumerate(headers):\n",
    "    name = headers.lower().replace(\" \", \"_\")\n",
    "    fields.append(name)\n",
    "  for e, employees in enumerate(employees):\n",
    "    dict = {}\n",
    "    for fx, f in enumerate(fields):\n",
    "      \n",
    "      dict[f] = employees[fx]\n",
    "      \n",
    "    employee_list.append(dict)\n",
    "    \n",
    "  with open(json_path, mode='w') as output_file:\n",
    "    json.dump(employee_list, output_file, indent=2)\n",
    "  \n",
    "\n",
    "  \n",
    "csv_to_json('data/raw/players.csv','data/players.json')"
   ]
  }
 ],
 "metadata": {
  "kernelspec": {
   "display_name": "Python 3.9.12 ('base')",
   "language": "python",
   "name": "python3"
  },
  "language_info": {
   "codemirror_mode": {
    "name": "ipython",
    "version": 3
   },
   "file_extension": ".py",
   "mimetype": "text/x-python",
   "name": "python",
   "nbconvert_exporter": "python",
   "pygments_lexer": "ipython3",
   "version": "3.9.12"
  },
  "orig_nbformat": 4,
  "vscode": {
   "interpreter": {
    "hash": "2b929720c33822319dbf9372a2179ed2652081fe391005ae5fcaf416ba21e1dc"
   }
  }
 },
 "nbformat": 4,
 "nbformat_minor": 2
}
